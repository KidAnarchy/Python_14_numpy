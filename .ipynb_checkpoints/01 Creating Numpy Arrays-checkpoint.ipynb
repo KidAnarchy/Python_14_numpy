{
 "cells": [
  {
   "cell_type": "markdown",
   "metadata": {},
   "source": [
    "## NumPy Arrays"
   ]
  },
  {
   "cell_type": "code",
   "execution_count": 2,
   "metadata": {},
   "outputs": [
    {
     "data": {
      "text/plain": [
       "'\\nNumPy (or Numpy) คือ Linear Algebra Library สำหรับ Python ที่เป็นส่วนสำคัญอย่างมากของ Data Science ที่ทำงานด้วย \\nPython libraries เกือบทั้งหมดใน PyData Ecosystem จะต้องดึง NumPy library เข้ามาใช้งานในส่วน main program\\n\\n    NumPy เป็น library (คลังคำสั่ง) ที่ให้บริการมากมายเกี่ยวกับการคำนวณทางคณิตศาสตร์และวิทยาศาสตร์ โดยมีที่เก็บข้อมูลที่เรียกว่า \\nArray (อาเรย์) n มิติ และเป็นการเก็บข้อมูลที่มีประสิทธิภาพมากๆ\\n\\n    Array มีลักษณะคล้ายๆกับ list แต่สร้างแล้วเปลี่ยนขนาดไม่ได้\\n\\n    ค่าใน Array ทุกช่องต้องเป็นประเภทเดียวกันทั้งหมด\\n\\n    เวกเตอร์ สามารถสร้างจาก Array 1 มิติ ส่วนเมทริกซ์ สร้างจาก Array 2 มิติ\\n'"
      ]
     },
     "execution_count": 2,
     "metadata": {},
     "output_type": "execute_result"
    }
   ],
   "source": [
    "'''\n",
    "NumPy (or Numpy) คือ Linear Algebra Library สำหรับ Python ที่เป็นส่วนสำคัญอย่างมากของ Data Science ที่ทำงานด้วย \n",
    "Python libraries เกือบทั้งหมดใน PyData Ecosystem จะต้องดึง NumPy library เข้ามาใช้งานในส่วน main program\n",
    "\n",
    "    NumPy เป็น library (คลังคำสั่ง) ที่ให้บริการมากมายเกี่ยวกับการคำนวณทางคณิตศาสตร์และวิทยาศาสตร์ โดยมีที่เก็บข้อมูลที่เรียกว่า \n",
    "Array (อาเรย์) n มิติ และเป็นการเก็บข้อมูลที่มีประสิทธิภาพมากๆ\n",
    "\n",
    "    Array มีลักษณะคล้ายๆกับ list แต่สร้างแล้วเปลี่ยนขนาดไม่ได้\n",
    "\n",
    "    ค่าใน Array ทุกช่องต้องเป็นประเภทเดียวกันทั้งหมด\n",
    "\n",
    "    เวกเตอร์ สามารถสร้างจาก Array 1 มิติ ส่วนเมทริกซ์ สร้างจาก Array 2 มิติ\n",
    "'''"
   ]
  },
  {
   "cell_type": "code",
   "execution_count": 3,
   "metadata": {},
   "outputs": [],
   "source": [
    "# Import Numpy Library\n",
    "import numpy as np"
   ]
  },
  {
   "cell_type": "code",
   "execution_count": 5,
   "metadata": {},
   "outputs": [
    {
     "data": {
      "text/plain": [
       "0.0"
      ]
     },
     "execution_count": 5,
     "metadata": {},
     "output_type": "execute_result"
    }
   ],
   "source": [
    "x = 0\n",
    "np.sin(x)"
   ]
  },
  {
   "cell_type": "code",
   "execution_count": 6,
   "metadata": {},
   "outputs": [
    {
     "name": "stdout",
     "output_type": "stream",
     "text": [
      "0.0\n",
      "1.0\n",
      "3.141592653589793\n",
      "2.718281828459045\n"
     ]
    }
   ],
   "source": [
    "import numpy as np\n",
    "\n",
    "print(np.sin(x))\n",
    "print(np.cos(x))\n",
    "print(np.pi)\n",
    "print(np.e)"
   ]
  },
  {
   "cell_type": "code",
   "execution_count": 7,
   "metadata": {},
   "outputs": [
    {
     "name": "stdout",
     "output_type": "stream",
     "text": [
      "[3 4 5]\n",
      "[2 4 1]\n",
      "[5 8 6]\n",
      "[ 6 16  5]\n",
      "[1.5 1.  5. ]\n"
     ]
    }
   ],
   "source": [
    "x = np.array([3,4,5]) #Changed from list array\n",
    "y = np.array([2,4,1])\n",
    "\n",
    "print(x)\n",
    "print(y)\n",
    "print(x + y)  # + Element\n",
    "print(x * y)\n",
    "print(x / y)"
   ]
  },
  {
   "cell_type": "code",
   "execution_count": 8,
   "metadata": {},
   "outputs": [
    {
     "name": "stdout",
     "output_type": "stream",
     "text": [
      "[0.  0.1 0.2 0.3 0.4 0.5 0.6 0.7 0.8 0.9 1.  1.1 1.2 1.3 1.4 1.5 1.6 1.7\n",
      " 1.8 1.9 2.  2.1 2.2 2.3 2.4 2.5 2.6 2.7 2.8 2.9 3.  3.1 3.2 3.3 3.4 3.5\n",
      " 3.6 3.7 3.8 3.9 4.  4.1 4.2 4.3 4.4 4.5 4.6 4.7 4.8 4.9]\n",
      "[ 0.   0.3  0.6  0.9  1.2  1.5  1.8  2.1  2.4  2.7  3.   3.3  3.6  3.9\n",
      "  4.2  4.5  4.8  5.1  5.4  5.7  6.   6.3  6.6  6.9  7.2  7.5  7.8  8.1\n",
      "  8.4  8.7  9.   9.3  9.6  9.9 10.2 10.5 10.8 11.1 11.4 11.7 12.  12.3\n",
      " 12.6 12.9 13.2 13.5 13.8 14.1 14.4 14.7]\n"
     ]
    }
   ],
   "source": [
    "# Building range from array\n",
    "\n",
    "x = np.arange(0, 5, 0.1) #(start, stop, step)\n",
    "print(x)\n",
    "print(3*x)"
   ]
  },
  {
   "cell_type": "code",
   "execution_count": 9,
   "metadata": {},
   "outputs": [
    {
     "name": "stdout",
     "output_type": "stream",
     "text": [
      "[0.         0.52359878 1.04719755 1.57079633 2.0943951  2.61799388\n",
      " 3.14159265 3.66519143 4.1887902  4.71238898 5.23598776 5.75958653]\n",
      "[ 0.00000000e+00  5.00000000e-01  8.66025404e-01  1.00000000e+00\n",
      "  8.66025404e-01  5.00000000e-01  1.22464680e-16 -5.00000000e-01\n",
      " -8.66025404e-01 -1.00000000e+00 -8.66025404e-01 -5.00000000e-01]\n"
     ]
    }
   ],
   "source": [
    "x = np.arange(0, 2*np.pi, np.pi/6)\n",
    "\n",
    "print(x)\n",
    "print( np.sin(x))"
   ]
  },
  {
   "cell_type": "markdown",
   "metadata": {},
   "source": [
    "### Creating NumPy Arrays"
   ]
  },
  {
   "cell_type": "code",
   "execution_count": 10,
   "metadata": {},
   "outputs": [
    {
     "data": {
      "text/plain": [
       "[1, 2, 3]"
      ]
     },
     "execution_count": 10,
     "metadata": {},
     "output_type": "execute_result"
    }
   ],
   "source": [
    "# From a Python List\n",
    "x_list = [1,2,3]\n",
    "\n",
    "x_list"
   ]
  },
  {
   "cell_type": "code",
   "execution_count": 11,
   "metadata": {},
   "outputs": [
    {
     "data": {
      "text/plain": [
       "array([1, 2, 3])"
      ]
     },
     "execution_count": 11,
     "metadata": {},
     "output_type": "execute_result"
    }
   ],
   "source": [
    "np.array(x_list)"
   ]
  },
  {
   "cell_type": "code",
   "execution_count": 12,
   "metadata": {},
   "outputs": [
    {
     "data": {
      "text/plain": [
       "[[1, 2, 3], [4, 5, 6], [7, 8, 9]]"
      ]
     },
     "execution_count": 12,
     "metadata": {},
     "output_type": "execute_result"
    }
   ],
   "source": [
    "# Creat matrix\n",
    "x_matrix = [[1,2,3],[4,5,6],[7,8,9]]\n",
    "\n",
    "x_matrix"
   ]
  },
  {
   "cell_type": "code",
   "execution_count": 13,
   "metadata": {},
   "outputs": [
    {
     "data": {
      "text/plain": [
       "array([[1, 2, 3],\n",
       "       [4, 5, 6],\n",
       "       [7, 8, 9]])"
      ]
     },
     "execution_count": 13,
     "metadata": {},
     "output_type": "execute_result"
    }
   ],
   "source": [
    "np.array(x_matrix)"
   ]
  }
 ],
 "metadata": {
  "kernelspec": {
   "display_name": "Python 3",
   "language": "python",
   "name": "python3"
  },
  "language_info": {
   "codemirror_mode": {
    "name": "ipython",
    "version": 3
   },
   "file_extension": ".py",
   "mimetype": "text/x-python",
   "name": "python",
   "nbconvert_exporter": "python",
   "pygments_lexer": "ipython3",
   "version": "3.8.5"
  }
 },
 "nbformat": 4,
 "nbformat_minor": 4
}
